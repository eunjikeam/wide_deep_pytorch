{
 "cells": [
  {
   "cell_type": "markdown",
   "metadata": {},
   "source": [
    "## Run example"
   ]
  },
  {
   "cell_type": "code",
   "execution_count": null,
   "metadata": {},
   "outputs": [],
   "source": [
    "import numpy as np\n",
    "import pandas as pd\n",
    "from tqdm import tqdm\n",
    "\n",
    "import torch\n",
    "from widendeep import train"
   ]
  },
  {
   "cell_type": "code",
   "execution_count": null,
   "metadata": {},
   "outputs": [],
   "source": [
    "df = torch.load('./data/adult.torch')\n",
    "\n",
    "df['income'] = np.where(df.income == '>50K', 1, 0)"
   ]
  },
  {
   "cell_type": "markdown",
   "metadata": {},
   "source": [
    "## Train"
   ]
  },
  {
   "cell_type": "code",
   "execution_count": null,
   "metadata": {},
   "outputs": [],
   "source": [
    "cfg = {\n",
    "    'wide' : {\n",
    "        'wide_cols' : ['capital_gain'],\n",
    "        'crossed_cols' : [('gender', 'race')]\n",
    "    },\n",
    "    'deep' : {\n",
    "        'embed_cols' : [('education',16), ('relationship',16)],\n",
    "        'continuous_cols' : [\"age\",\"hours_per_week\"],\n",
    "        'scale' : True,\n",
    "    },\n",
    "    'model_cfg' : {\n",
    "        'target' : 'income',\n",
    "        'batch_size' : 512,\n",
    "        'lr' : 0.01,\n",
    "        'num_workers' : 4,\n",
    "        'n_epochs' : 3,\n",
    "        'hidden_layers' : [128, 32],\n",
    "        'dropout' : [0.8],\n",
    "        'output_dim' : 1,\n",
    "        'use_gpu' : True,\n",
    "        'gpu_ids' : [1, 2],\n",
    "        'version' : 'v0002',\n",
    "        'model_dir' : None,\n",
    "    }\n",
    "}"
   ]
  },
  {
   "cell_type": "code",
   "execution_count": null,
   "metadata": {},
   "outputs": [],
   "source": [
    "wd = train.Main(cfg)"
   ]
  },
  {
   "cell_type": "code",
   "execution_count": null,
   "metadata": {},
   "outputs": [],
   "source": [
    "wd.train(df)"
   ]
  },
  {
   "cell_type": "markdown",
   "metadata": {},
   "source": [
    "## Eval"
   ]
  },
  {
   "cell_type": "code",
   "execution_count": null,
   "metadata": {},
   "outputs": [],
   "source": [
    "cfg = {\n",
    "    'wide' : {\n",
    "        'wide_cols' : [],\n",
    "        'crossed_cols' : []\n",
    "    },\n",
    "    'deep' : {\n",
    "        'embed_cols' : [],\n",
    "        'continuous_cols' : [],\n",
    "    },\n",
    "    'model_cfg' : {\n",
    "        'target' : 'income',\n",
    "        'batch_size' : 512,\n",
    "        'lr' : 0.01,\n",
    "        'num_workers' : 4,\n",
    "        'n_epochs' : 3,\n",
    "        'hidden_layers' : [128, 32],\n",
    "        'dropout' : [0.8],\n",
    "        'output_dim' : 1,\n",
    "        'use_gpu' : True,\n",
    "        'gpu_ids' : [1, 2],\n",
    "        'version' : 'v0001',\n",
    "        'preprocessor_dir' : './model/v0001/preprocess',\n",
    "        'model_dir' : './model/v0001/model/Epoch_3.pt',\n",
    "    }\n",
    "}"
   ]
  },
  {
   "cell_type": "code",
   "execution_count": null,
   "metadata": {},
   "outputs": [],
   "source": [
    "wd = train.Main(cfg)"
   ]
  },
  {
   "cell_type": "code",
   "execution_count": null,
   "metadata": {},
   "outputs": [],
   "source": [
    "wd.eval(df)"
   ]
  },
  {
   "cell_type": "markdown",
   "metadata": {},
   "source": [
    "## pred"
   ]
  },
  {
   "cell_type": "code",
   "execution_count": null,
   "metadata": {},
   "outputs": [],
   "source": [
    "cfg = {\n",
    "    'wide' : {\n",
    "        'wide_cols' : [],\n",
    "        'crossed_cols' : []\n",
    "    },\n",
    "    'deep' : {\n",
    "         'embed_cols' : [],\n",
    "        'continuous_cols' : [],\n",
    "    },\n",
    "    'model_cfg' : {\n",
    "        'target' : '',\n",
    "        'batch_size' : 512,\n",
    "        'lr' : 0.01,\n",
    "        'num_workers' : 4,\n",
    "        'n_epochs' : 3,\n",
    "        'hidden_layers' : [128, 32],\n",
    "        'dropout' : [0.8],\n",
    "        'output_dim' : 1,\n",
    "        'use_gpu' : True,\n",
    "        'gpu_ids' : [1, 2],\n",
    "#         'version' : 'v0001',\n",
    "        'preprocessor_dir' : './model/v0002/preprocess',\n",
    "        'model_dir' : './model/v0002/model/Epoch_3.pt',\n",
    "    }\n",
    "}"
   ]
  },
  {
   "cell_type": "code",
   "execution_count": null,
   "metadata": {},
   "outputs": [],
   "source": [
    "wd = train.Main(cfg)"
   ]
  },
  {
   "cell_type": "code",
   "execution_count": null,
   "metadata": {},
   "outputs": [],
   "source": [
    "preds = wd.pred(df)"
   ]
  },
  {
   "cell_type": "code",
   "execution_count": null,
   "metadata": {},
   "outputs": [],
   "source": [
    "pred = np.where(np.array(preds) >= 0.5, 1, 0)"
   ]
  },
  {
   "cell_type": "code",
   "execution_count": null,
   "metadata": {},
   "outputs": [],
   "source": [
    "(pred == df['income']).mean()"
   ]
  },
  {
   "cell_type": "markdown",
   "metadata": {},
   "source": [
    "# retrain"
   ]
  },
  {
   "cell_type": "code",
   "execution_count": null,
   "metadata": {},
   "outputs": [],
   "source": [
    "cfg = {\n",
    "    'wide' : {\n",
    "        'wide_cols' : ['capital_gain'],\n",
    "        'crossed_cols' : [('gender', 'race')]\n",
    "    },\n",
    "    'deep' : {\n",
    "         'embed_cols' : [('education',16), ('relationship',16)],\n",
    "        'continuous_cols' : [\"age\",\"hours_per_week\"],\n",
    "        'scale' : True,\n",
    "    },\n",
    "    'model_cfg' : {\n",
    "        'target' : 'income',\n",
    "        'batch_size' : 512,\n",
    "        'lr' : 0.01,\n",
    "        'num_workers' : 4,\n",
    "        'n_epochs' : 3,\n",
    "        'hidden_layers' : [128, 32],\n",
    "        'dropout' : [0.8],\n",
    "        'output_dim' : 1,\n",
    "        'use_gpu' : True,\n",
    "        'gpu_ids' : [1, 2],\n",
    "        'version' : 'v0003',\n",
    "        'preprocessor_dir' : './model/v0002/preprocess',\n",
    "        'model_dir' : './model/v0002/model/Epoch_3.pt',\n",
    "    }\n",
    "}"
   ]
  },
  {
   "cell_type": "code",
   "execution_count": null,
   "metadata": {},
   "outputs": [],
   "source": [
    "wd = train.Main(cfg)"
   ]
  },
  {
   "cell_type": "code",
   "execution_count": null,
   "metadata": {},
   "outputs": [],
   "source": [
    "wd.retrain(df)"
   ]
  },
  {
   "cell_type": "code",
   "execution_count": null,
   "metadata": {},
   "outputs": [],
   "source": []
  }
 ],
 "metadata": {
  "kernelspec": {
   "display_name": "Python 3",
   "language": "python",
   "name": "python3"
  },
  "language_info": {
   "codemirror_mode": {
    "name": "ipython",
    "version": 3
   },
   "file_extension": ".py",
   "mimetype": "text/x-python",
   "name": "python",
   "nbconvert_exporter": "python",
   "pygments_lexer": "ipython3",
   "version": "3.8.6"
  }
 },
 "nbformat": 4,
 "nbformat_minor": 4
}
